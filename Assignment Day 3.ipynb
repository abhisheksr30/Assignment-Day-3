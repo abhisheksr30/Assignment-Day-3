{
 "cells": [
  {
   "cell_type": "markdown",
   "metadata": {},
   "source": [
    "Questions 1:\n",
    "Create a numpy array starting from 2 till 50 with a stepsize of 3."
   ]
  },
  {
   "cell_type": "code",
   "execution_count": 1,
   "metadata": {},
   "outputs": [
    {
     "name": "stdout",
     "output_type": "stream",
     "text": [
      "[ 2  5  8 11 14 17 20 23 26 29 32 35 38 41 44 47 50]\n",
      "[ 2  5  8 11 14 17 20 23 26 29 32 35 38 41 44 47 50]\n"
     ]
    }
   ],
   "source": [
    "import numpy as np  \n",
    "my_array = np.arange(2, 51, 3) \n",
    "print(my_array) \n",
    "print(np.arange(2, 51, 3))"
   ]
  },
  {
   "cell_type": "markdown",
   "metadata": {},
   "source": [
    "Questions 2:\n",
    "Accept two lists of 5 elements each from the user.\n",
    "Convert them to numpy arrays. Concatenate these arrays and print it. Also sort these arrays and print it."
   ]
  },
  {
   "cell_type": "code",
   "execution_count": null,
   "metadata": {},
   "outputs": [],
   "source": [
    "import numpy as np\n",
    "\n",
    "my_list_one = []\n",
    "my_list_two = []\n",
    "\n",
    "for i in range(5):\n",
    "    my_input = int(input())\n",
    "    my_list_one.append(my_input)\n",
    "\n",
    "print(\"List one :\",my_list_one)\n",
    "\n",
    "for i in range(5):\n",
    "    my_input = int(input())\n",
    "    my_list_two.append(my_input)\n",
    "\n",
    "print(\"List Two\", my_list_two)\n",
    "\n",
    "# conversion of List to Array\n",
    "\n",
    "my_array_one = np.array(my_list_one)\n",
    "my_array_two = np.array(my_list_two)\n",
    "print(\"List to array convert 1 :\", my_array_one)\n",
    "print(\"List to array convert 2 :\", my_array_two)\n",
    "\n",
    "# concatenation of arrays\n",
    "\n",
    "array_concat = np.concatenate((my_array_one, my_array_two))\n",
    "\n",
    "print(\"concatenation of arrays are :\", array_concat)\n",
    "\n",
    "# Sorting of array\n",
    "\n",
    "print(\"Sorted array :\", np.sort(array_concat))\n"
   ]
  },
  {
   "cell_type": "markdown",
   "metadata": {},
   "source": [
    "Questions 3:\n",
    "Write a code snippet to find the dimensions of a ndarray and its size."
   ]
  },
  {
   "cell_type": "code",
   "execution_count": null,
   "metadata": {},
   "outputs": [],
   "source": [
    "import numpy as np\n",
    "\n",
    "my_array_one = np.array([[1, 4, 7], [3, 6, 9], [1, 4, 7], [3, 6, 9]])\n",
    "print(\"calculating Dimensions of a nd array is :\", my_array_one.ndim)\n",
    "\n",
    "print(\"Size of an array is :\", my_array_one.size)\n"
   ]
  },
  {
   "cell_type": "markdown",
   "metadata": {},
   "source": [
    "Questions 4:\n",
    "\n",
    "How to convert a 1D array into a 2D array? Demonstrate with the help of a code snippet\n",
    "Hint: np.newaxis, np.expand_dims"
   ]
  },
  {
   "cell_type": "code",
   "execution_count": null,
   "metadata": {},
   "outputs": [],
   "source": [
    "import numpy as np\n",
    "\n",
    "arr = np.arange(int(input()))\n",
    "print(\"Test 1D array (shape) :\", arr.shape)\n",
    "\n",
    "two_d_array_row = arr[np.newaxis]\n",
    "print(\"Test` 2D array for row is :\", two_d_array_row.shape)\n",
    "\n",
    "two_d_array_col = arr[:, np.newaxis]\n",
    "print(\"Test` 2D array for column is :\", two_d_array_col.shape)"
   ]
  },
  {
   "cell_type": "markdown",
   "metadata": {},
   "source": [
    "Questions 5:\n",
    "Consider two square numpy arrays. Stack them vertically and horizontally.\n",
    "Hint: Use vstack(), hstack()"
   ]
  },
  {
   "cell_type": "code",
   "execution_count": null,
   "metadata": {},
   "outputs": [],
   "source": [
    "import numpy as np\n",
    "\n",
    "my_array_one = np.square([1, 4, 5, 8, 79, 6, 3, 5, 7, 5, 9, 6, 4, 5])  # square of numpy array\n",
    "my_array_two = np.square([4, 5, 8, 6, 9, 7, 4, 5, 6])  # square of numpy array\n",
    "\n",
    "\n",
    "print(\" horizontally stacked :\", np.hstack((my_array_one, my_array_two)))\n",
    "\n",
    "print(\"vertically stacked : \", np.hstack((my_array_one, my_array_two)))\n"
   ]
  },
  {
   "cell_type": "markdown",
   "metadata": {},
   "source": [
    "Questions 6:\n",
    "How to get unique items and counts of unique items?"
   ]
  },
  {
   "cell_type": "code",
   "execution_count": null,
   "metadata": {},
   "outputs": [],
   "source": [
    "import numpy as np\n",
    "\n",
    "arr = np.array([4, 7, 8, 9, 5, 6, 5, 4, 4])\n",
    "\n",
    "unique, counts = np.unique(arr, return_counts=True)\n",
    "arr = np.asarray((unique, counts)).T\n",
    "print(arr)"
   ]
  }
 ],
 "metadata": {
  "kernelspec": {
   "display_name": "Python 3",
   "language": "python",
   "name": "python3"
  },
  "language_info": {
   "codemirror_mode": {
    "name": "ipython",
    "version": 3
   },
   "file_extension": ".py",
   "mimetype": "text/x-python",
   "name": "python",
   "nbconvert_exporter": "python",
   "pygments_lexer": "ipython3",
   "version": "3.8.3"
  }
 },
 "nbformat": 4,
 "nbformat_minor": 4
}
